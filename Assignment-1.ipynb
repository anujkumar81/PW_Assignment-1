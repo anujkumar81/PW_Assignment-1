{
 "cells": [
  {
   "cell_type": "code",
   "execution_count": 1,
   "id": "5af664e3-5743-40d8-afca-5c863324cc3b",
   "metadata": {},
   "outputs": [],
   "source": [
    "# Question 1:-\n",
    "'''Create one variable containing following type of data:\n",
    "(i)\t  string\n",
    "(ii)  list\n",
    "(iii) float\n",
    "(iv)  tuple'''\n",
    "\n",
    "# Answer:\n",
    "\n",
    "string_variable = \"Hello, Anuj\"\n",
    "list_variable = [1, 2, 3, 4, 5]\n",
    "float_variable = 89.3\n",
    "tuple_variable = (10, 20, 30)"
   ]
  },
  {
   "cell_type": "code",
   "execution_count": 3,
   "id": "fa896bf0-e7f5-498c-820b-ec8a7ffead51",
   "metadata": {},
   "outputs": [
    {
     "data": {
      "text/plain": [
       "\"(i) var1 = ‘ ‘\\nThe value assigned to var1 is a string containing a single space character.\\nData Type: String\\n\\n(ii) var2 = ‘[ DS , ML , Python]’\\nThe value assigned to var2 is a string containing the characters '[ DS , ML , Python]'.\\nData Type: String\\n\\n(iii) var3 = [ ‘DS’ , ’ML’ , ‘Python’ ]\\nThe value assigned to var3 is a list containing three string elements: 'DS', 'ML', and 'Python'.\\nData Type: List\\n\\n(iv) var4 = 1.\\nThe value assigned to var4 is a floating-point number.\\nData Type: Float\\n\\nSo, the data types of the given variables are:\\n(i) var1: String\\n(ii) var2: String\\n(iii) var3: List\\n(iv) var4: Float\""
      ]
     },
     "execution_count": 3,
     "metadata": {},
     "output_type": "execute_result"
    }
   ],
   "source": [
    "# Question 2:-\n",
    "'''Q2. Given are some following variables containing data:\n",
    "(i)\tvar1 = ‘ ‘\n",
    "(ii)\tvar2 = ‘[ DS , ML , Python]’\n",
    "(iii)\tvar3 = [ ‘DS’ , ’ML’ , ‘Python’ ]\n",
    "(iv)\tvar4 = 1.\n",
    "What will be the data type of the above given variable.'''\n",
    "\n",
    "# Answer:\n",
    "\n",
    "(i) var1 = ‘ ‘\n",
    "The value assigned to var1 is a string containing a single space character.\n",
    "Data Type: String\n",
    "\n",
    "(ii) var2 = ‘[ DS , ML , Python]’\n",
    "The value assigned to var2 is a string containing the characters '[ DS , ML , Python]'.\n",
    "Data Type: String\n",
    "\n",
    "(iii) var3 = [ ‘DS’ , ’ML’ , ‘Python’ ]\n",
    "The value assigned to var3 is a list containing three string elements: 'DS', 'ML', and 'Python'.\n",
    "Data Type: List\n",
    "\n",
    "(iv) var4 = 1.\n",
    "The value assigned to var4 is a floating-point number.\n",
    "Data Type: Float\n",
    "\n",
    "So, the data types of the given variables are:\n",
    "(i) var1: String\n",
    "(ii) var2: String\n",
    "(iii) var3: List\n",
    "(iv) var4: Float"
   ]
  },
  {
   "cell_type": "code",
   "execution_count": 4,
   "id": "53ac6873-ae78-4a95-a366-914911009cc2",
   "metadata": {},
   "outputs": [
    {
     "name": "stdout",
     "output_type": "stream",
     "text": [
      "5.0\n"
     ]
    }
   ],
   "source": [
    "# Question 2:-\n",
    "'''Explain the use of the following operators using an example:\n",
    "(i) /\n",
    "(ii) %\n",
    "(iii) //\n",
    "(iv) **   '''\n",
    "\n",
    "# Answer:\n",
    "\n",
    "\"\"\"(i) / (Division Operator):\n",
    "The division operator is used to perform division between two numbers.\"\"\"\n",
    "# Example:\n",
    "\n",
    "a = 10\n",
    "b = 2\n",
    "result = a / b\n",
    "print(result)"
   ]
  },
  {
   "cell_type": "code",
   "execution_count": 10,
   "id": "ed39b634-92e6-46eb-8f65-4a9045cf568f",
   "metadata": {},
   "outputs": [
    {
     "name": "stdout",
     "output_type": "stream",
     "text": [
      "1\n"
     ]
    }
   ],
   "source": [
    "\"\"\"(ii) % (Modulus Operator):\n",
    "The modulus operator is used to find the remainder of the division between two numbers.\"\"\"\n",
    "#Example:\n",
    "\n",
    "a = 10\n",
    "b = 3\n",
    "result = a % b\n",
    "print(result)"
   ]
  },
  {
   "cell_type": "code",
   "execution_count": 11,
   "id": "9264a980-5aec-4611-bba5-8315c9b16391",
   "metadata": {},
   "outputs": [
    {
     "name": "stdout",
     "output_type": "stream",
     "text": [
      "3\n"
     ]
    }
   ],
   "source": [
    "'''(iii) // (Floor Division Operator):\n",
    "The floor division operator is used to perform division and round the result down to the nearest integer. '''\n",
    "#Example:\n",
    "\n",
    "a = 10\n",
    "b = 3\n",
    "result = a // b\n",
    "print(result)"
   ]
  },
  {
   "cell_type": "code",
   "execution_count": 12,
   "id": "a9083115-d9a6-4546-89d5-1d29768c484d",
   "metadata": {},
   "outputs": [
    {
     "name": "stdout",
     "output_type": "stream",
     "text": [
      "8\n"
     ]
    }
   ],
   "source": [
    "'''(iv) ** (Exponentiation Operator):\n",
    "The exponentiation operator is used to raise a number to a certain power.'''\n",
    "# Example:\n",
    "\n",
    "base = 2\n",
    "exponent = 3\n",
    "result = base ** exponent\n",
    "print(result)"
   ]
  },
  {
   "cell_type": "code",
   "execution_count": 13,
   "id": "45e60401-25b1-43bd-8c79-fd51c2e3b08a",
   "metadata": {},
   "outputs": [
    {
     "name": "stdout",
     "output_type": "stream",
     "text": [
      "Element: 10, Data Type: <class 'int'>\n",
      "Element: Hello, Data Type: <class 'str'>\n",
      "Element: 3.14, Data Type: <class 'float'>\n",
      "Element: True, Data Type: <class 'bool'>\n",
      "Element: [1, 2, 3], Data Type: <class 'list'>\n",
      "Element: (1, 2), Data Type: <class 'tuple'>\n",
      "Element: {'name': 'John', 'age': 30}, Data Type: <class 'dict'>\n",
      "Element: None, Data Type: <class 'NoneType'>\n",
      "Element: Python, Data Type: <class 'str'>\n",
      "Element: False, Data Type: <class 'bool'>\n"
     ]
    }
   ],
   "source": [
    "# question 4:-\n",
    "'''Create a list of length 10 of your choice containing multiple types of data. Using for loop print the\n",
    "element and its data type.'''\n",
    "\n",
    "# Answer:\n",
    "\n",
    "# Create a list with 10 elements of different data types\n",
    "my_list = [10, \"Hello\", 3.14, True, [1, 2, 3], (1, 2), {\"name\": \"John\", \"age\": 30}, None, \"Python\", False]\n",
    "\n",
    "# Using a for loop to print each element and its data type\n",
    "for element in my_list:\n",
    "    print(f\"Element: {element}, Data Type: {type(element)}\")"
   ]
  },
  {
   "cell_type": "code",
   "execution_count": 14,
   "id": "7bb45dea-b988-4896-9bf8-c6f892af701b",
   "metadata": {},
   "outputs": [
    {
     "name": "stdout",
     "output_type": "stream",
     "text": [
      "100 is purely divisible by 5 and can be divided 2 times.\n"
     ]
    }
   ],
   "source": [
    "# question 5:-\n",
    "'''Q5. Using a while loop, verify if the number A is purely divisible by number B and if so then how many\n",
    "times it can be divisible. '''\n",
    "\n",
    "# Answer:\n",
    "\n",
    "def find_divisions(a, b):\n",
    "    count = 0\n",
    "    while a >= b and a % b == 0:\n",
    "        a = a // b\n",
    "        count += 1\n",
    "    return count\n",
    "\n",
    "# Test example\n",
    "number_a = 100\n",
    "number_b = 5\n",
    "\n",
    "result = find_divisions(number_a, number_b)\n",
    "print(f\"{number_a} is purely divisible by {number_b} and can be divided {result} times.\")"
   ]
  },
  {
   "cell_type": "code",
   "execution_count": 15,
   "id": "8f3c86da-b5cd-452b-bc0f-db58f65b0eb2",
   "metadata": {},
   "outputs": [
    {
     "name": "stdout",
     "output_type": "stream",
     "text": [
      "2 is not divisible by 3.\n",
      "15 is divisible by 3.\n",
      "7 is not divisible by 3.\n",
      "9 is divisible by 3.\n",
      "36 is divisible by 3.\n",
      "10 is not divisible by 3.\n",
      "27 is divisible by 3.\n",
      "14 is not divisible by 3.\n",
      "21 is divisible by 3.\n",
      "4 is not divisible by 3.\n",
      "18 is divisible by 3.\n",
      "30 is divisible by 3.\n",
      "22 is not divisible by 3.\n",
      "13 is not divisible by 3.\n",
      "6 is divisible by 3.\n",
      "12 is divisible by 3.\n",
      "25 is not divisible by 3.\n",
      "17 is not divisible by 3.\n",
      "11 is not divisible by 3.\n",
      "33 is divisible by 3.\n",
      "20 is not divisible by 3.\n",
      "8 is not divisible by 3.\n",
      "16 is not divisible by 3.\n",
      "3 is divisible by 3.\n",
      "19 is not divisible by 3.\n"
     ]
    }
   ],
   "source": [
    "# Question 6:-\n",
    "\"\"\"Create a list containing 25 int type data. Using for loop and if-else condition print if the element is\n",
    "divisible by 3 or not. \"\"\"\n",
    "\n",
    "# Answer:\n",
    "\n",
    "# Create a list containing 25 integer type data\n",
    "my_list = [2, 15, 7, 9, 36, 10, 27, 14, 21, 4, 18, 30, 22, 13, 6, 12, 25, 17, 11, 33, 20, 8, 16, 3, 19]\n",
    "\n",
    "# Using for loop and if-else condition to check divisibility by 3\n",
    "for num in my_list:\n",
    "    if num % 3 == 0:\n",
    "        print(f\"{num} is divisible by 3.\")\n",
    "    else:\n",
    "        print(f\"{num} is not divisible by 3.\")"
   ]
  },
  {
   "cell_type": "code",
   "execution_count": 17,
   "id": "73be92bc-7753-4746-8cba-9135d8ea2421",
   "metadata": {},
   "outputs": [
    {
     "name": "stdout",
     "output_type": "stream",
     "text": [
      "[1, 2, 3]\n",
      "[10, 2, 3]\n"
     ]
    }
   ],
   "source": [
    "# Question 7:-\n",
    "'''What do you understand about mutable and immutable data types? Give examples for both showing\n",
    "this property. '''\n",
    "\n",
    "# Answer:\n",
    "\n",
    "# Lists are mutable\n",
    "my_list = [1, 2, 3]\n",
    "print(my_list)\n",
    "\n",
    "# Modifying the list\n",
    "my_list[0] = 10\n",
    "print(my_list)"
   ]
  },
  {
   "cell_type": "code",
   "execution_count": 18,
   "id": "37ab8cc1-3818-41ed-914f-b7616356cb4f",
   "metadata": {},
   "outputs": [
    {
     "name": "stdout",
     "output_type": "stream",
     "text": [
      "Anuj\n"
     ]
    },
    {
     "ename": "TypeError",
     "evalue": "'str' object does not support item assignment",
     "output_type": "error",
     "traceback": [
      "\u001b[0;31m---------------------------------------------------------------------------\u001b[0m",
      "\u001b[0;31mTypeError\u001b[0m                                 Traceback (most recent call last)",
      "Cell \u001b[0;32mIn[18], line 5\u001b[0m\n\u001b[1;32m      3\u001b[0m \u001b[38;5;28mprint\u001b[39m(my_string)\n\u001b[1;32m      4\u001b[0m \u001b[38;5;66;03m# Trying to modify the string (Error: strings are immutable)\u001b[39;00m\n\u001b[0;32m----> 5\u001b[0m \u001b[43mmy_string\u001b[49m\u001b[43m[\u001b[49m\u001b[38;5;241;43m0\u001b[39;49m\u001b[43m]\u001b[49m \u001b[38;5;241m=\u001b[39m \u001b[38;5;124m\"\u001b[39m\u001b[38;5;124mh\u001b[39m\u001b[38;5;124m\"\u001b[39m  \u001b[38;5;66;03m# TypeError: 'str' object does not support item assignment\u001b[39;00m\n",
      "\u001b[0;31mTypeError\u001b[0m: 'str' object does not support item assignment"
     ]
    }
   ],
   "source": [
    "# Strings are immutable\n",
    "my_string = \"Anuj\"\n",
    "print(my_string)\n",
    "# Trying to modify the string (Error: strings are immutable)\n",
    "my_string[0] = \"h\"  # TypeError: 'str' object does not support item assignment\n"
   ]
  },
  {
   "cell_type": "code",
   "execution_count": null,
   "id": "36f3bdd0-deaf-473a-877b-bc7b7bc53744",
   "metadata": {},
   "outputs": [],
   "source": []
  }
 ],
 "metadata": {
  "kernelspec": {
   "display_name": "Python 3 (ipykernel)",
   "language": "python",
   "name": "python3"
  },
  "language_info": {
   "codemirror_mode": {
    "name": "ipython",
    "version": 3
   },
   "file_extension": ".py",
   "mimetype": "text/x-python",
   "name": "python",
   "nbconvert_exporter": "python",
   "pygments_lexer": "ipython3",
   "version": "3.10.8"
  }
 },
 "nbformat": 4,
 "nbformat_minor": 5
}
